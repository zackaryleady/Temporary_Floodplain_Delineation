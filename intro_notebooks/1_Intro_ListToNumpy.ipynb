{
 "cells": [
  {
   "cell_type": "markdown",
   "metadata": {},
   "source": [
    "All libraries needed for this notebook outside of jupyter itself, run this cell to make sure you have the proper libraries."
   ]
  },
  {
   "cell_type": "code",
   "execution_count": 1,
   "metadata": {},
   "outputs": [],
   "source": [
    "import numpy as np"
   ]
  },
  {
   "cell_type": "markdown",
   "metadata": {},
   "source": [
    "Initialize two Python list objects below.\n",
    "Remember that [] initiates a list object the same as calling list().\n",
    "This is also true for other data structures in Python such as dictionaries (hash map / hash table) {} or dict()."
   ]
  },
  {
   "cell_type": "code",
   "execution_count": 4,
   "metadata": {},
   "outputs": [
    {
     "name": "stdout",
     "output_type": "stream",
     "text": [
      "[1, 2, 3, 4, 5]\n",
      "[6, 7, 8, 9, 10]\n"
     ]
    }
   ],
   "source": [
    "a = [1, 2, 3, 4, 5]\n",
    "b = [6, 7, 8, 9, 10]\n",
    "print(a)\n",
    "print(b)"
   ]
  },
  {
   "cell_type": "markdown",
   "metadata": {},
   "source": [
    "What does a + b create?"
   ]
  },
  {
   "cell_type": "code",
   "execution_count": 5,
   "metadata": {},
   "outputs": [
    {
     "data": {
      "text/plain": [
       "[1, 2, 3, 4, 5, 6, 7, 8, 9, 10]"
      ]
     },
     "execution_count": 5,
     "metadata": {},
     "output_type": "execute_result"
    }
   ],
   "source": [
    "a + b"
   ]
  },
  {
   "cell_type": "markdown",
   "metadata": {},
   "source": [
    "Notice that the two lists did not sum the internal elements of each list, but rather contantenated the two list objects in a single list, while maintaining the order of the internal elements. Lists are ordered objects, Dictionaries are not."
   ]
  },
  {
   "cell_type": "code",
   "execution_count": 6,
   "metadata": {},
   "outputs": [
    {
     "name": "stdout",
     "output_type": "stream",
     "text": [
      "[7, 9, 11, 13, 15]\n"
     ]
    }
   ],
   "source": [
    "sum_result = []\n",
    "for first, second in zip(a,b):\n",
    "    sum_temp = first + second\n",
    "    sum_result.append(sum_temp)\n",
    "print(sum_result)"
   ]
  },
  {
   "cell_type": "markdown",
   "metadata": {},
   "source": [
    "While this works for a small amount of numbers in a single dimensional list, it will become increasingly slow as each new dimension requires an additional for loop. Each new nested for loop increases the time complexity from n -> n^2 -> n^3. As you will soon see image data is often represented as 2, 3 or 4 dimensional arrays.\n",
    "Arrays are not Lists, though they often first appear similiar in Python."
   ]
  },
  {
   "cell_type": "markdown",
   "metadata": {},
   "source": [
    "We can instantiate numpy arrays by providing a list."
   ]
  },
  {
   "cell_type": "code",
   "execution_count": 7,
   "metadata": {},
   "outputs": [
    {
     "name": "stdout",
     "output_type": "stream",
     "text": [
      "<class 'list'> <class 'list'>\n",
      "<class 'numpy.ndarray'> <class 'numpy.ndarray'>\n"
     ]
    }
   ],
   "source": [
    "c = np.array(a)\n",
    "d = np.array(b)\n",
    "print(type(a), type(b))\n",
    "print(type(c), type(d))"
   ]
  },
  {
   "cell_type": "code",
   "execution_count": 8,
   "metadata": {},
   "outputs": [
    {
     "data": {
      "text/plain": [
       "array([ 7,  9, 11, 13, 15])"
      ]
     },
     "execution_count": 8,
     "metadata": {},
     "output_type": "execute_result"
    }
   ],
   "source": [
    "c + d"
   ]
  },
  {
   "cell_type": "markdown",
   "metadata": {},
   "source": [
    "Notice how we did not need to create a for loop in order to add the internal elements of the two arrays c and d together. Instead numpy automatically vectorized the sum operation. It is also possible to do this with a vector (array) and a scalar (a single value or constant)."
   ]
  },
  {
   "cell_type": "code",
   "execution_count": 9,
   "metadata": {},
   "outputs": [
    {
     "data": {
      "text/plain": [
       "array([3, 4, 5, 6, 7])"
      ]
     },
     "execution_count": 9,
     "metadata": {},
     "output_type": "execute_result"
    }
   ],
   "source": [
    "c + 2"
   ]
  },
  {
   "cell_type": "markdown",
   "metadata": {},
   "source": [
    "However, both lists and numpy arrays share a common index slicing syntax, which can cause confusion early in your Python career. Notice that objects of class ndarray do not have commas between the elements, while Python list objects do."
   ]
  },
  {
   "cell_type": "code",
   "execution_count": 11,
   "metadata": {},
   "outputs": [
    {
     "name": "stdout",
     "output_type": "stream",
     "text": [
      "Type of a: <class 'list'>\n",
      "Complete value of a: [1, 2, 3, 4, 5]\n",
      "First element of a: 1\n",
      "First two elements of a: [1, 2]\n",
      "Last element of a: 5\n",
      "Object a reversed order: [5, 4, 3, 2, 1]\n",
      "Type of c: <class 'numpy.ndarray'>\n",
      "Complete value of c: [1 2 3 4 5]\n",
      "First element of c: 1\n",
      "First two elements of c: [1 2]\n",
      "Last element of c: 5\n",
      "Object c reversed order: [5 4 3 2 1]\n"
     ]
    }
   ],
   "source": [
    "print('Type of a: {}'.format(type(a)))\n",
    "print('Complete value of a: {}'.format(a))\n",
    "print('First element of a: {}'.format(a[0]))\n",
    "print('First two elements of a: {}'.format(a[0:2]))\n",
    "print('Last element of a: {}'.format(a[-1]))\n",
    "print('Object a reversed order: {}'.format(a[::-1]))\n",
    "print('Type of c: {}'.format(type(c)))\n",
    "print('Complete value of c: {}'.format(c))\n",
    "print('First element of c: {}'.format(c[0]))\n",
    "print('First two elements of c: {}'.format(c[0:2]))\n",
    "print('Last element of c: {}'.format(c[-1]))\n",
    "print('Object c reversed order: {}'.format(c[::-1]))"
   ]
  },
  {
   "cell_type": "markdown",
   "metadata": {},
   "source": [
    "One of the reasons index slicing is so powerful is for value reassignment or selection. Notice that Python is 0-indexed, hence a 5-element list or array has indices 0-4 not 1-5."
   ]
  },
  {
   "cell_type": "code",
   "execution_count": 12,
   "metadata": {},
   "outputs": [
    {
     "name": "stdout",
     "output_type": "stream",
     "text": [
      "[10, 2, 3, 4, 5]\n",
      "[ 1  2  3  4 10]\n"
     ]
    }
   ],
   "source": [
    "a[0] = 10\n",
    "c[4] = 10\n",
    "print(a)\n",
    "print(c)"
   ]
  },
  {
   "cell_type": "code",
   "execution_count": 13,
   "metadata": {},
   "outputs": [
    {
     "name": "stdout",
     "output_type": "stream",
     "text": [
      "5\n",
      "(5,)\n",
      "1\n"
     ]
    }
   ],
   "source": [
    "print(len(a))\n",
    "print(c.shape)\n",
    "print(c.ndim)"
   ]
  },
  {
   "cell_type": "markdown",
   "metadata": {},
   "source": [
    "Notice that the shape of an array returns an immutable tuple where each element is a dimension and the integer value of the number of elements in that dimension (i.e. len() of c.shape is c.ndim or the # of dimensions). But how do you create a 2 dimensional array, (i.e. a matrix)?"
   ]
  },
  {
   "cell_type": "code",
   "execution_count": 14,
   "metadata": {},
   "outputs": [
    {
     "name": "stdout",
     "output_type": "stream",
     "text": [
      "<class 'numpy.ndarray'>\n",
      "(2, 5)\n",
      "2\n",
      "[[10  2  3  4  5]\n",
      " [ 1  2  3  4 10]]\n"
     ]
    }
   ],
   "source": [
    "# e is created from a list of lists\n",
    "e = np.array([a, c])\n",
    "print(type(e))\n",
    "print(e.shape)\n",
    "print(e.ndim)\n",
    "print(e)"
   ]
  },
  {
   "cell_type": "markdown",
   "metadata": {},
   "source": [
    "Exercise: Create a 3 dimensional array and print the type, shape, n-dimensions, and size. How are shape and size related?"
   ]
  },
  {
   "cell_type": "code",
   "execution_count": 12,
   "metadata": {},
   "outputs": [],
   "source": [
    "# Cell for Exercise\n",
    "\n"
   ]
  },
  {
   "cell_type": "markdown",
   "metadata": {},
   "source": [
    "Solution:"
   ]
  },
  {
   "cell_type": "code",
   "execution_count": 15,
   "metadata": {
    "collapsed": true,
    "jupyter": {
     "outputs_hidden": true,
     "source_hidden": true
    }
   },
   "outputs": [
    {
     "name": "stdout",
     "output_type": "stream",
     "text": [
      "<class 'numpy.ndarray'>\n",
      "(2, 2, 5)\n",
      "3\n",
      "[[[10  2  3  4  5]\n",
      "  [ 1  2  3  4 10]]\n",
      "\n",
      " [[10  2  3  4  5]\n",
      "  [ 1  2  3  4 10]]]\n"
     ]
    }
   ],
   "source": [
    "f = np.array([e,e])\n",
    "print(type(f))\n",
    "print(f.shape)\n",
    "print(f.ndim)\n",
    "print(f)"
   ]
  }
 ],
 "metadata": {
  "kernelspec": {
   "display_name": "Python 3",
   "language": "python",
   "name": "python3"
  },
  "language_info": {
   "codemirror_mode": {
    "name": "ipython",
    "version": 3
   },
   "file_extension": ".py",
   "mimetype": "text/x-python",
   "name": "python",
   "nbconvert_exporter": "python",
   "pygments_lexer": "ipython3",
   "version": "3.7.4"
  }
 },
 "nbformat": 4,
 "nbformat_minor": 4
}
